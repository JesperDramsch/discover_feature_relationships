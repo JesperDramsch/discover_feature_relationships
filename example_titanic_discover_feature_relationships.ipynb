{
 "cells": [
  {
   "cell_type": "markdown",
   "metadata": {},
   "source": [
    "# Explore feature-to-feature relationship in Titanic"
   ]
  },
  {
   "cell_type": "code",
   "execution_count": 1,
   "metadata": {},
   "outputs": [],
   "source": [
    "import pandas as pd\n",
    "import seaborn as sns\n",
    "from sklearn import datasets\n",
    "import discover"
   ]
  },
  {
   "cell_type": "code",
   "execution_count": 2,
   "metadata": {},
   "outputs": [
    {
     "name": "stdout",
     "output_type": "stream",
     "text": [
      "2018-06-30 \n",
      "\n",
      "CPython 3.6.5\n",
      "IPython 6.4.0\n",
      "\n",
      "numpy 1.14.5\n",
      "matplotlib 2.2.2\n",
      "sklearn 0.19.1\n",
      "\n",
      "compiler   : GCC 4.8.2 20140120 (Red Hat 4.8.2-15)\n",
      "system     : Linux\n",
      "release    : 4.9.91-040991-generic\n",
      "machine    : x86_64\n",
      "processor  : x86_64\n",
      "CPU cores  : 8\n",
      "interpreter: 64bit\n",
      "Git hash   : 1315881240f1c5ba03598294d00aa0adb6a3c398\n"
     ]
    }
   ],
   "source": [
    "# watermark is optional - it shows the versions of installed libraries\n",
    "# so it is useful to confirm your library versions when you submit bug reports to projects\n",
    "# install watermark using\n",
    "# %install_ext https://raw.githubusercontent.com/rasbt/watermark/master/watermark.py\n",
    "%load_ext watermark\n",
    "# show a watermark for this environment\n",
    "%watermark -d -m -v -p numpy,matplotlib,sklearn -g"
   ]
  },
  {
   "cell_type": "markdown",
   "metadata": {},
   "source": [
    "# Load the Titanic dataset"
   ]
  },
  {
   "cell_type": "code",
   "execution_count": 3,
   "metadata": {},
   "outputs": [
    {
     "data": {
      "text/html": [
       "<div>\n",
       "<style scoped>\n",
       "    .dataframe tbody tr th:only-of-type {\n",
       "        vertical-align: middle;\n",
       "    }\n",
       "\n",
       "    .dataframe tbody tr th {\n",
       "        vertical-align: top;\n",
       "    }\n",
       "\n",
       "    .dataframe thead th {\n",
       "        text-align: right;\n",
       "    }\n",
       "</style>\n",
       "<table border=\"1\" class=\"dataframe\">\n",
       "  <thead>\n",
       "    <tr style=\"text-align: right;\">\n",
       "      <th></th>\n",
       "      <th>PassengerId</th>\n",
       "      <th>Survived</th>\n",
       "      <th>Pclass</th>\n",
       "      <th>Name</th>\n",
       "      <th>Sex</th>\n",
       "      <th>Age</th>\n",
       "      <th>SibSp</th>\n",
       "      <th>Parch</th>\n",
       "      <th>Ticket</th>\n",
       "      <th>Fare</th>\n",
       "      <th>Cabin</th>\n",
       "      <th>Embarked</th>\n",
       "      <th>SibSpParch</th>\n",
       "    </tr>\n",
       "  </thead>\n",
       "  <tbody>\n",
       "    <tr>\n",
       "      <th>0</th>\n",
       "      <td>1</td>\n",
       "      <td>0</td>\n",
       "      <td>3</td>\n",
       "      <td>Braund, Mr. Owen Harris</td>\n",
       "      <td>male</td>\n",
       "      <td>22.0</td>\n",
       "      <td>1</td>\n",
       "      <td>0</td>\n",
       "      <td>A/5 21171</td>\n",
       "      <td>7.2500</td>\n",
       "      <td>NaN</td>\n",
       "      <td>S</td>\n",
       "      <td>1</td>\n",
       "    </tr>\n",
       "    <tr>\n",
       "      <th>1</th>\n",
       "      <td>2</td>\n",
       "      <td>1</td>\n",
       "      <td>1</td>\n",
       "      <td>Cumings, Mrs. John Bradley (Florence Briggs Th...</td>\n",
       "      <td>female</td>\n",
       "      <td>38.0</td>\n",
       "      <td>1</td>\n",
       "      <td>0</td>\n",
       "      <td>PC 17599</td>\n",
       "      <td>71.2833</td>\n",
       "      <td>C85</td>\n",
       "      <td>C</td>\n",
       "      <td>1</td>\n",
       "    </tr>\n",
       "    <tr>\n",
       "      <th>2</th>\n",
       "      <td>3</td>\n",
       "      <td>1</td>\n",
       "      <td>3</td>\n",
       "      <td>Heikkinen, Miss. Laina</td>\n",
       "      <td>female</td>\n",
       "      <td>26.0</td>\n",
       "      <td>0</td>\n",
       "      <td>0</td>\n",
       "      <td>STON/O2. 3101282</td>\n",
       "      <td>7.9250</td>\n",
       "      <td>NaN</td>\n",
       "      <td>S</td>\n",
       "      <td>0</td>\n",
       "    </tr>\n",
       "    <tr>\n",
       "      <th>3</th>\n",
       "      <td>4</td>\n",
       "      <td>1</td>\n",
       "      <td>1</td>\n",
       "      <td>Futrelle, Mrs. Jacques Heath (Lily May Peel)</td>\n",
       "      <td>female</td>\n",
       "      <td>35.0</td>\n",
       "      <td>1</td>\n",
       "      <td>0</td>\n",
       "      <td>113803</td>\n",
       "      <td>53.1000</td>\n",
       "      <td>C123</td>\n",
       "      <td>S</td>\n",
       "      <td>1</td>\n",
       "    </tr>\n",
       "    <tr>\n",
       "      <th>4</th>\n",
       "      <td>5</td>\n",
       "      <td>0</td>\n",
       "      <td>3</td>\n",
       "      <td>Allen, Mr. William Henry</td>\n",
       "      <td>male</td>\n",
       "      <td>35.0</td>\n",
       "      <td>0</td>\n",
       "      <td>0</td>\n",
       "      <td>373450</td>\n",
       "      <td>8.0500</td>\n",
       "      <td>NaN</td>\n",
       "      <td>S</td>\n",
       "      <td>0</td>\n",
       "    </tr>\n",
       "  </tbody>\n",
       "</table>\n",
       "</div>"
      ],
      "text/plain": [
       "   PassengerId  Survived  Pclass  \\\n",
       "0            1         0       3   \n",
       "1            2         1       1   \n",
       "2            3         1       3   \n",
       "3            4         1       1   \n",
       "4            5         0       3   \n",
       "\n",
       "                                                Name     Sex   Age  SibSp  \\\n",
       "0                            Braund, Mr. Owen Harris    male  22.0      1   \n",
       "1  Cumings, Mrs. John Bradley (Florence Briggs Th...  female  38.0      1   \n",
       "2                             Heikkinen, Miss. Laina  female  26.0      0   \n",
       "3       Futrelle, Mrs. Jacques Heath (Lily May Peel)  female  35.0      1   \n",
       "4                           Allen, Mr. William Henry    male  35.0      0   \n",
       "\n",
       "   Parch            Ticket     Fare Cabin Embarked  SibSpParch  \n",
       "0      0         A/5 21171   7.2500   NaN        S           1  \n",
       "1      0          PC 17599  71.2833   C85        C           1  \n",
       "2      0  STON/O2. 3101282   7.9250   NaN        S           0  \n",
       "3      0            113803  53.1000  C123        S           1  \n",
       "4      0            373450   8.0500   NaN        S           0  "
      ]
     },
     "execution_count": 3,
     "metadata": {},
     "output_type": "execute_result"
    }
   ],
   "source": [
    "df = pd.read_csv(\"titanic_train.csv\")\n",
    "df['SibSpParch'] = df.SibSp + df.Parch\n",
    "\n",
    "cols = ['Pclass', 'SibSp', 'Parch', 'SibSpParch', 'Age', 'Fare', 'Sex', 'Embarked', 'Survived']\n",
    "classifier_overrides = set(['Embarked', 'Survived', 'Sex'])\n",
    "\n",
    "df.head()"
   ]
  },
  {
   "cell_type": "markdown",
   "metadata": {},
   "source": [
    "# Discover non-linear relationships\n",
    "\n",
    "_Github note_ colours for `style` don't show up in Github, you'll have to grab a local copy of the Notebook.\n",
    "\n",
    "* Fare predicts Embarked but Embarked poorly predict Fare\n",
    "* Fare predicts Pclass but Pclass poorly predicts Fare\n",
    "* SibSp and Parch both predict SibSpParch (the sum of both), SibSpParch predicts both of its components\n",
    "* Sex (a text columns) predicts Survived"
   ]
  },
  {
   "cell_type": "code",
   "execution_count": 4,
   "metadata": {},
   "outputs": [],
   "source": [
    "# pass in the subset of columns that we're interested in (we could analyse all columns if we wanted a bigger output)\n",
    "df_results = discover.discover(df[cols], classifier_overrides)"
   ]
  },
  {
   "cell_type": "code",
   "execution_count": 5,
   "metadata": {},
   "outputs": [
    {
     "data": {
      "text/html": [
       "<style  type=\"text/css\" >\n",
       "    #T_a21fcde4_7cac_11e8_89e1_a434d96d0ef2row0_col0 {\n",
       "            background-color:  #fde725;\n",
       "        }    #T_a21fcde4_7cac_11e8_89e1_a434d96d0ef2row0_col1 {\n",
       "            background-color:  #365c8d;\n",
       "        }    #T_a21fcde4_7cac_11e8_89e1_a434d96d0ef2row0_col2 {\n",
       "            background-color:  #3d4d8a;\n",
       "        }    #T_a21fcde4_7cac_11e8_89e1_a434d96d0ef2row0_col3 {\n",
       "            background-color:  #2d718e;\n",
       "        }    #T_a21fcde4_7cac_11e8_89e1_a434d96d0ef2row0_col4 {\n",
       "            background-color:  #2b758e;\n",
       "        }    #T_a21fcde4_7cac_11e8_89e1_a434d96d0ef2row0_col5 {\n",
       "            background-color:  #355f8d;\n",
       "        }    #T_a21fcde4_7cac_11e8_89e1_a434d96d0ef2row0_col6 {\n",
       "            background-color:  #2d718e;\n",
       "        }    #T_a21fcde4_7cac_11e8_89e1_a434d96d0ef2row0_col7 {\n",
       "            background-color:  #31668e;\n",
       "        }    #T_a21fcde4_7cac_11e8_89e1_a434d96d0ef2row0_col8 {\n",
       "            background-color:  #355e8d;\n",
       "        }    #T_a21fcde4_7cac_11e8_89e1_a434d96d0ef2row1_col0 {\n",
       "            background-color:  #31668e;\n",
       "        }    #T_a21fcde4_7cac_11e8_89e1_a434d96d0ef2row1_col1 {\n",
       "            background-color:  #fde725;\n",
       "        }    #T_a21fcde4_7cac_11e8_89e1_a434d96d0ef2row1_col2 {\n",
       "            background-color:  #3bbb75;\n",
       "        }    #T_a21fcde4_7cac_11e8_89e1_a434d96d0ef2row1_col3 {\n",
       "            background-color:  #3d4d8a;\n",
       "        }    #T_a21fcde4_7cac_11e8_89e1_a434d96d0ef2row1_col4 {\n",
       "            background-color:  #3d4d8a;\n",
       "        }    #T_a21fcde4_7cac_11e8_89e1_a434d96d0ef2row1_col5 {\n",
       "            background-color:  #3d4d8a;\n",
       "        }    #T_a21fcde4_7cac_11e8_89e1_a434d96d0ef2row1_col6 {\n",
       "            background-color:  #3d4d8a;\n",
       "        }    #T_a21fcde4_7cac_11e8_89e1_a434d96d0ef2row1_col7 {\n",
       "            background-color:  #3d4d8a;\n",
       "        }    #T_a21fcde4_7cac_11e8_89e1_a434d96d0ef2row1_col8 {\n",
       "            background-color:  #3d4d8a;\n",
       "        }    #T_a21fcde4_7cac_11e8_89e1_a434d96d0ef2row2_col0 {\n",
       "            background-color:  #3d4d8a;\n",
       "        }    #T_a21fcde4_7cac_11e8_89e1_a434d96d0ef2row2_col1 {\n",
       "            background-color:  #31688e;\n",
       "        }    #T_a21fcde4_7cac_11e8_89e1_a434d96d0ef2row2_col2 {\n",
       "            background-color:  #fde725;\n",
       "        }    #T_a21fcde4_7cac_11e8_89e1_a434d96d0ef2row2_col3 {\n",
       "            background-color:  #33628d;\n",
       "        }    #T_a21fcde4_7cac_11e8_89e1_a434d96d0ef2row2_col4 {\n",
       "            background-color:  #1f9a8a;\n",
       "        }    #T_a21fcde4_7cac_11e8_89e1_a434d96d0ef2row2_col5 {\n",
       "            background-color:  #355f8d;\n",
       "        }    #T_a21fcde4_7cac_11e8_89e1_a434d96d0ef2row2_col6 {\n",
       "            background-color:  #34608d;\n",
       "        }    #T_a21fcde4_7cac_11e8_89e1_a434d96d0ef2row2_col7 {\n",
       "            background-color:  #31668e;\n",
       "        }    #T_a21fcde4_7cac_11e8_89e1_a434d96d0ef2row2_col8 {\n",
       "            background-color:  #33638d;\n",
       "        }    #T_a21fcde4_7cac_11e8_89e1_a434d96d0ef2row3_col0 {\n",
       "            background-color:  #375a8c;\n",
       "        }    #T_a21fcde4_7cac_11e8_89e1_a434d96d0ef2row3_col1 {\n",
       "            background-color:  #3c508b;\n",
       "        }    #T_a21fcde4_7cac_11e8_89e1_a434d96d0ef2row3_col2 {\n",
       "            background-color:  #20928c;\n",
       "        }    #T_a21fcde4_7cac_11e8_89e1_a434d96d0ef2row3_col3 {\n",
       "            background-color:  #fde725;\n",
       "        }    #T_a21fcde4_7cac_11e8_89e1_a434d96d0ef2row3_col4 {\n",
       "            background-color:  #3d4d8a;\n",
       "        }    #T_a21fcde4_7cac_11e8_89e1_a434d96d0ef2row3_col5 {\n",
       "            background-color:  #375a8c;\n",
       "        }    #T_a21fcde4_7cac_11e8_89e1_a434d96d0ef2row3_col6 {\n",
       "            background-color:  #2c718e;\n",
       "        }    #T_a21fcde4_7cac_11e8_89e1_a434d96d0ef2row3_col7 {\n",
       "            background-color:  #5ac864;\n",
       "        }    #T_a21fcde4_7cac_11e8_89e1_a434d96d0ef2row3_col8 {\n",
       "            background-color:  #3c508b;\n",
       "        }    #T_a21fcde4_7cac_11e8_89e1_a434d96d0ef2row4_col0 {\n",
       "            background-color:  #3b518b;\n",
       "        }    #T_a21fcde4_7cac_11e8_89e1_a434d96d0ef2row4_col1 {\n",
       "            background-color:  #34618d;\n",
       "        }    #T_a21fcde4_7cac_11e8_89e1_a434d96d0ef2row4_col2 {\n",
       "            background-color:  #b5de2b;\n",
       "        }    #T_a21fcde4_7cac_11e8_89e1_a434d96d0ef2row4_col3 {\n",
       "            background-color:  #3d4d8a;\n",
       "        }    #T_a21fcde4_7cac_11e8_89e1_a434d96d0ef2row4_col4 {\n",
       "            background-color:  #fde725;\n",
       "        }    #T_a21fcde4_7cac_11e8_89e1_a434d96d0ef2row4_col5 {\n",
       "            background-color:  #3c4f8a;\n",
       "        }    #T_a21fcde4_7cac_11e8_89e1_a434d96d0ef2row4_col6 {\n",
       "            background-color:  #39568c;\n",
       "        }    #T_a21fcde4_7cac_11e8_89e1_a434d96d0ef2row4_col7 {\n",
       "            background-color:  #375a8c;\n",
       "        }    #T_a21fcde4_7cac_11e8_89e1_a434d96d0ef2row4_col8 {\n",
       "            background-color:  #33628d;\n",
       "        }    #T_a21fcde4_7cac_11e8_89e1_a434d96d0ef2row5_col0 {\n",
       "            background-color:  #3d4d8a;\n",
       "        }    #T_a21fcde4_7cac_11e8_89e1_a434d96d0ef2row5_col1 {\n",
       "            background-color:  #2c738e;\n",
       "        }    #T_a21fcde4_7cac_11e8_89e1_a434d96d0ef2row5_col2 {\n",
       "            background-color:  #31688e;\n",
       "        }    #T_a21fcde4_7cac_11e8_89e1_a434d96d0ef2row5_col3 {\n",
       "            background-color:  #2b748e;\n",
       "        }    #T_a21fcde4_7cac_11e8_89e1_a434d96d0ef2row5_col4 {\n",
       "            background-color:  #2c728e;\n",
       "        }    #T_a21fcde4_7cac_11e8_89e1_a434d96d0ef2row5_col5 {\n",
       "            background-color:  #fde725;\n",
       "        }    #T_a21fcde4_7cac_11e8_89e1_a434d96d0ef2row5_col6 {\n",
       "            background-color:  #2c728e;\n",
       "        }    #T_a21fcde4_7cac_11e8_89e1_a434d96d0ef2row5_col7 {\n",
       "            background-color:  #277f8e;\n",
       "        }    #T_a21fcde4_7cac_11e8_89e1_a434d96d0ef2row5_col8 {\n",
       "            background-color:  #27ad81;\n",
       "        }    #T_a21fcde4_7cac_11e8_89e1_a434d96d0ef2row6_col0 {\n",
       "            background-color:  #3d4d8a;\n",
       "        }    #T_a21fcde4_7cac_11e8_89e1_a434d96d0ef2row6_col1 {\n",
       "            background-color:  #3d4e8a;\n",
       "        }    #T_a21fcde4_7cac_11e8_89e1_a434d96d0ef2row6_col2 {\n",
       "            background-color:  #44bf70;\n",
       "        }    #T_a21fcde4_7cac_11e8_89e1_a434d96d0ef2row6_col3 {\n",
       "            background-color:  #2b748e;\n",
       "        }    #T_a21fcde4_7cac_11e8_89e1_a434d96d0ef2row6_col4 {\n",
       "            background-color:  #3d4d8a;\n",
       "        }    #T_a21fcde4_7cac_11e8_89e1_a434d96d0ef2row6_col5 {\n",
       "            background-color:  #3c508b;\n",
       "        }    #T_a21fcde4_7cac_11e8_89e1_a434d96d0ef2row6_col6 {\n",
       "            background-color:  #fde725;\n",
       "        }    #T_a21fcde4_7cac_11e8_89e1_a434d96d0ef2row6_col7 {\n",
       "            background-color:  #a0da39;\n",
       "        }    #T_a21fcde4_7cac_11e8_89e1_a434d96d0ef2row6_col8 {\n",
       "            background-color:  #3d4d8a;\n",
       "        }    #T_a21fcde4_7cac_11e8_89e1_a434d96d0ef2row7_col0 {\n",
       "            background-color:  #30698e;\n",
       "        }    #T_a21fcde4_7cac_11e8_89e1_a434d96d0ef2row7_col1 {\n",
       "            background-color:  #3d4e8a;\n",
       "        }    #T_a21fcde4_7cac_11e8_89e1_a434d96d0ef2row7_col2 {\n",
       "            background-color:  #70cf57;\n",
       "        }    #T_a21fcde4_7cac_11e8_89e1_a434d96d0ef2row7_col3 {\n",
       "            background-color:  #4ec36b;\n",
       "        }    #T_a21fcde4_7cac_11e8_89e1_a434d96d0ef2row7_col4 {\n",
       "            background-color:  #3d4d8a;\n",
       "        }    #T_a21fcde4_7cac_11e8_89e1_a434d96d0ef2row7_col5 {\n",
       "            background-color:  #39558c;\n",
       "        }    #T_a21fcde4_7cac_11e8_89e1_a434d96d0ef2row7_col6 {\n",
       "            background-color:  #93d741;\n",
       "        }    #T_a21fcde4_7cac_11e8_89e1_a434d96d0ef2row7_col7 {\n",
       "            background-color:  #fde725;\n",
       "        }    #T_a21fcde4_7cac_11e8_89e1_a434d96d0ef2row7_col8 {\n",
       "            background-color:  #3d4e8a;\n",
       "        }    #T_a21fcde4_7cac_11e8_89e1_a434d96d0ef2row8_col0 {\n",
       "            background-color:  #3d4d8a;\n",
       "        }    #T_a21fcde4_7cac_11e8_89e1_a434d96d0ef2row8_col1 {\n",
       "            background-color:  #2e6d8e;\n",
       "        }    #T_a21fcde4_7cac_11e8_89e1_a434d96d0ef2row8_col2 {\n",
       "            background-color:  #23888e;\n",
       "        }    #T_a21fcde4_7cac_11e8_89e1_a434d96d0ef2row8_col3 {\n",
       "            background-color:  #355f8d;\n",
       "        }    #T_a21fcde4_7cac_11e8_89e1_a434d96d0ef2row8_col4 {\n",
       "            background-color:  #277e8e;\n",
       "        }    #T_a21fcde4_7cac_11e8_89e1_a434d96d0ef2row8_col5 {\n",
       "            background-color:  #26ad81;\n",
       "        }    #T_a21fcde4_7cac_11e8_89e1_a434d96d0ef2row8_col6 {\n",
       "            background-color:  #31688e;\n",
       "        }    #T_a21fcde4_7cac_11e8_89e1_a434d96d0ef2row8_col7 {\n",
       "            background-color:  #29798e;\n",
       "        }    #T_a21fcde4_7cac_11e8_89e1_a434d96d0ef2row8_col8 {\n",
       "            background-color:  #fde725;\n",
       "        }</style>  \n",
       "<table id=\"T_a21fcde4_7cac_11e8_89e1_a434d96d0ef2\" > \n",
       "<thead>    <tr> \n",
       "        <th class=\"index_name level0\" >feature</th> \n",
       "        <th class=\"col_heading level0 col0\" >Age</th> \n",
       "        <th class=\"col_heading level0 col1\" >Embarked</th> \n",
       "        <th class=\"col_heading level0 col2\" >Fare</th> \n",
       "        <th class=\"col_heading level0 col3\" >Parch</th> \n",
       "        <th class=\"col_heading level0 col4\" >Pclass</th> \n",
       "        <th class=\"col_heading level0 col5\" >Sex</th> \n",
       "        <th class=\"col_heading level0 col6\" >SibSp</th> \n",
       "        <th class=\"col_heading level0 col7\" >SibSpParch</th> \n",
       "        <th class=\"col_heading level0 col8\" >Survived</th> \n",
       "    </tr>    <tr> \n",
       "        <th class=\"index_name level0\" >target</th> \n",
       "        <th class=\"blank\" ></th> \n",
       "        <th class=\"blank\" ></th> \n",
       "        <th class=\"blank\" ></th> \n",
       "        <th class=\"blank\" ></th> \n",
       "        <th class=\"blank\" ></th> \n",
       "        <th class=\"blank\" ></th> \n",
       "        <th class=\"blank\" ></th> \n",
       "        <th class=\"blank\" ></th> \n",
       "        <th class=\"blank\" ></th> \n",
       "    </tr></thead> \n",
       "<tbody>    <tr> \n",
       "        <th id=\"T_a21fcde4_7cac_11e8_89e1_a434d96d0ef2level0_row0\" class=\"row_heading level0 row0\" >Age</th> \n",
       "        <td id=\"T_a21fcde4_7cac_11e8_89e1_a434d96d0ef2row0_col0\" class=\"data row0 col0\" >1</td> \n",
       "        <td id=\"T_a21fcde4_7cac_11e8_89e1_a434d96d0ef2row0_col1\" class=\"data row0 col1\" >-0.011</td> \n",
       "        <td id=\"T_a21fcde4_7cac_11e8_89e1_a434d96d0ef2row0_col2\" class=\"data row0 col2\" >-0.092</td> \n",
       "        <td id=\"T_a21fcde4_7cac_11e8_89e1_a434d96d0ef2row0_col3\" class=\"data row0 col3\" >0.1</td> \n",
       "        <td id=\"T_a21fcde4_7cac_11e8_89e1_a434d96d0ef2row0_col4\" class=\"data row0 col4\" >0.13</td> \n",
       "        <td id=\"T_a21fcde4_7cac_11e8_89e1_a434d96d0ef2row0_col5\" class=\"data row0 col5\" >0.0026</td> \n",
       "        <td id=\"T_a21fcde4_7cac_11e8_89e1_a434d96d0ef2row0_col6\" class=\"data row0 col6\" >0.1</td> \n",
       "        <td id=\"T_a21fcde4_7cac_11e8_89e1_a434d96d0ef2row0_col7\" class=\"data row0 col7\" >0.044</td> \n",
       "        <td id=\"T_a21fcde4_7cac_11e8_89e1_a434d96d0ef2row0_col8\" class=\"data row0 col8\" >-0.0022</td> \n",
       "    </tr>    <tr> \n",
       "        <th id=\"T_a21fcde4_7cac_11e8_89e1_a434d96d0ef2level0_row1\" class=\"row_heading level0 row1\" >Embarked</th> \n",
       "        <td id=\"T_a21fcde4_7cac_11e8_89e1_a434d96d0ef2row1_col0\" class=\"data row1 col0\" >0.76</td> \n",
       "        <td id=\"T_a21fcde4_7cac_11e8_89e1_a434d96d0ef2row1_col1\" class=\"data row1 col1\" >1</td> \n",
       "        <td id=\"T_a21fcde4_7cac_11e8_89e1_a434d96d0ef2row1_col2\" class=\"data row1 col2\" >0.89</td> \n",
       "        <td id=\"T_a21fcde4_7cac_11e8_89e1_a434d96d0ef2row1_col3\" class=\"data row1 col3\" >0.72</td> \n",
       "        <td id=\"T_a21fcde4_7cac_11e8_89e1_a434d96d0ef2row1_col4\" class=\"data row1 col4\" >0.72</td> \n",
       "        <td id=\"T_a21fcde4_7cac_11e8_89e1_a434d96d0ef2row1_col5\" class=\"data row1 col5\" >0.72</td> \n",
       "        <td id=\"T_a21fcde4_7cac_11e8_89e1_a434d96d0ef2row1_col6\" class=\"data row1 col6\" >0.72</td> \n",
       "        <td id=\"T_a21fcde4_7cac_11e8_89e1_a434d96d0ef2row1_col7\" class=\"data row1 col7\" >0.72</td> \n",
       "        <td id=\"T_a21fcde4_7cac_11e8_89e1_a434d96d0ef2row1_col8\" class=\"data row1 col8\" >0.72</td> \n",
       "    </tr>    <tr> \n",
       "        <th id=\"T_a21fcde4_7cac_11e8_89e1_a434d96d0ef2level0_row2\" class=\"row_heading level0 row2\" >Fare</th> \n",
       "        <td id=\"T_a21fcde4_7cac_11e8_89e1_a434d96d0ef2row2_col0\" class=\"data row2 col0\" >-0.075</td> \n",
       "        <td id=\"T_a21fcde4_7cac_11e8_89e1_a434d96d0ef2row2_col1\" class=\"data row2 col1\" >0.07</td> \n",
       "        <td id=\"T_a21fcde4_7cac_11e8_89e1_a434d96d0ef2row2_col2\" class=\"data row2 col2\" >1</td> \n",
       "        <td id=\"T_a21fcde4_7cac_11e8_89e1_a434d96d0ef2row2_col3\" class=\"data row2 col3\" >0.038</td> \n",
       "        <td id=\"T_a21fcde4_7cac_11e8_89e1_a434d96d0ef2row2_col4\" class=\"data row2 col4\" >0.36</td> \n",
       "        <td id=\"T_a21fcde4_7cac_11e8_89e1_a434d96d0ef2row2_col5\" class=\"data row2 col5\" >0.023</td> \n",
       "        <td id=\"T_a21fcde4_7cac_11e8_89e1_a434d96d0ef2row2_col6\" class=\"data row2 col6\" >0.026</td> \n",
       "        <td id=\"T_a21fcde4_7cac_11e8_89e1_a434d96d0ef2row2_col7\" class=\"data row2 col7\" >0.059</td> \n",
       "        <td id=\"T_a21fcde4_7cac_11e8_89e1_a434d96d0ef2row2_col8\" class=\"data row2 col8\" >0.044</td> \n",
       "    </tr>    <tr> \n",
       "        <th id=\"T_a21fcde4_7cac_11e8_89e1_a434d96d0ef2level0_row3\" class=\"row_heading level0 row3\" >Parch</th> \n",
       "        <td id=\"T_a21fcde4_7cac_11e8_89e1_a434d96d0ef2row3_col0\" class=\"data row3 col0\" >0.049</td> \n",
       "        <td id=\"T_a21fcde4_7cac_11e8_89e1_a434d96d0ef2row3_col1\" class=\"data row3 col1\" >0.0029</td> \n",
       "        <td id=\"T_a21fcde4_7cac_11e8_89e1_a434d96d0ef2row3_col2\" class=\"data row3 col2\" >0.35</td> \n",
       "        <td id=\"T_a21fcde4_7cac_11e8_89e1_a434d96d0ef2row3_col3\" class=\"data row3 col3\" >1</td> \n",
       "        <td id=\"T_a21fcde4_7cac_11e8_89e1_a434d96d0ef2row3_col4\" class=\"data row3 col4\" >-0.013</td> \n",
       "        <td id=\"T_a21fcde4_7cac_11e8_89e1_a434d96d0ef2row3_col5\" class=\"data row3 col5\" >0.049</td> \n",
       "        <td id=\"T_a21fcde4_7cac_11e8_89e1_a434d96d0ef2row3_col6\" class=\"data row3 col6\" >0.17</td> \n",
       "        <td id=\"T_a21fcde4_7cac_11e8_89e1_a434d96d0ef2row3_col7\" class=\"data row3 col7\" >0.66</td> \n",
       "        <td id=\"T_a21fcde4_7cac_11e8_89e1_a434d96d0ef2row3_col8\" class=\"data row3 col8\" >0.0061</td> \n",
       "    </tr>    <tr> \n",
       "        <th id=\"T_a21fcde4_7cac_11e8_89e1_a434d96d0ef2level0_row4\" class=\"row_heading level0 row4\" >Pclass</th> \n",
       "        <td id=\"T_a21fcde4_7cac_11e8_89e1_a434d96d0ef2row4_col0\" class=\"data row4 col0\" >0.0025</td> \n",
       "        <td id=\"T_a21fcde4_7cac_11e8_89e1_a434d96d0ef2row4_col1\" class=\"data row4 col1\" >0.082</td> \n",
       "        <td id=\"T_a21fcde4_7cac_11e8_89e1_a434d96d0ef2row4_col2\" class=\"data row4 col2\" >0.85</td> \n",
       "        <td id=\"T_a21fcde4_7cac_11e8_89e1_a434d96d0ef2row4_col3\" class=\"data row4 col3\" >-0.021</td> \n",
       "        <td id=\"T_a21fcde4_7cac_11e8_89e1_a434d96d0ef2row4_col4\" class=\"data row4 col4\" >1</td> \n",
       "        <td id=\"T_a21fcde4_7cac_11e8_89e1_a434d96d0ef2row4_col5\" class=\"data row4 col5\" >-0.0059</td> \n",
       "        <td id=\"T_a21fcde4_7cac_11e8_89e1_a434d96d0ef2row4_col6\" class=\"data row4 col6\" >0.028</td> \n",
       "        <td id=\"T_a21fcde4_7cac_11e8_89e1_a434d96d0ef2row4_col7\" class=\"data row4 col7\" >0.046</td> \n",
       "        <td id=\"T_a21fcde4_7cac_11e8_89e1_a434d96d0ef2row4_col8\" class=\"data row4 col8\" >0.087</td> \n",
       "    </tr>    <tr> \n",
       "        <th id=\"T_a21fcde4_7cac_11e8_89e1_a434d96d0ef2level0_row5\" class=\"row_heading level0 row5\" >Sex</th> \n",
       "        <td id=\"T_a21fcde4_7cac_11e8_89e1_a434d96d0ef2row5_col0\" class=\"data row5 col0\" >0.56</td> \n",
       "        <td id=\"T_a21fcde4_7cac_11e8_89e1_a434d96d0ef2row5_col1\" class=\"data row5 col1\" >0.65</td> \n",
       "        <td id=\"T_a21fcde4_7cac_11e8_89e1_a434d96d0ef2row5_col2\" class=\"data row5 col2\" >0.62</td> \n",
       "        <td id=\"T_a21fcde4_7cac_11e8_89e1_a434d96d0ef2row5_col3\" class=\"data row5 col3\" >0.65</td> \n",
       "        <td id=\"T_a21fcde4_7cac_11e8_89e1_a434d96d0ef2row5_col4\" class=\"data row5 col4\" >0.65</td> \n",
       "        <td id=\"T_a21fcde4_7cac_11e8_89e1_a434d96d0ef2row5_col5\" class=\"data row5 col5\" >1</td> \n",
       "        <td id=\"T_a21fcde4_7cac_11e8_89e1_a434d96d0ef2row5_col6\" class=\"data row5 col6\" >0.65</td> \n",
       "        <td id=\"T_a21fcde4_7cac_11e8_89e1_a434d96d0ef2row5_col7\" class=\"data row5 col7\" >0.68</td> \n",
       "        <td id=\"T_a21fcde4_7cac_11e8_89e1_a434d96d0ef2row5_col8\" class=\"data row5 col8\" >0.79</td> \n",
       "    </tr>    <tr> \n",
       "        <th id=\"T_a21fcde4_7cac_11e8_89e1_a434d96d0ef2level0_row6\" class=\"row_heading level0 row6\" >SibSp</th> \n",
       "        <td id=\"T_a21fcde4_7cac_11e8_89e1_a434d96d0ef2row6_col0\" class=\"data row6 col0\" >-0.014</td> \n",
       "        <td id=\"T_a21fcde4_7cac_11e8_89e1_a434d96d0ef2row6_col1\" class=\"data row6 col1\" >-0.0084</td> \n",
       "        <td id=\"T_a21fcde4_7cac_11e8_89e1_a434d96d0ef2row6_col2\" class=\"data row6 col2\" >0.61</td> \n",
       "        <td id=\"T_a21fcde4_7cac_11e8_89e1_a434d96d0ef2row6_col3\" class=\"data row6 col3\" >0.19</td> \n",
       "        <td id=\"T_a21fcde4_7cac_11e8_89e1_a434d96d0ef2row6_col4\" class=\"data row6 col4\" >-0.011</td> \n",
       "        <td id=\"T_a21fcde4_7cac_11e8_89e1_a434d96d0ef2row6_col5\" class=\"data row6 col5\" >0.006</td> \n",
       "        <td id=\"T_a21fcde4_7cac_11e8_89e1_a434d96d0ef2row6_col6\" class=\"data row6 col6\" >1</td> \n",
       "        <td id=\"T_a21fcde4_7cac_11e8_89e1_a434d96d0ef2row6_col7\" class=\"data row6 col7\" >0.81</td> \n",
       "        <td id=\"T_a21fcde4_7cac_11e8_89e1_a434d96d0ef2row6_col8\" class=\"data row6 col8\" >-0.011</td> \n",
       "    </tr>    <tr> \n",
       "        <th id=\"T_a21fcde4_7cac_11e8_89e1_a434d96d0ef2level0_row7\" class=\"row_heading level0 row7\" >SibSpParch</th> \n",
       "        <td id=\"T_a21fcde4_7cac_11e8_89e1_a434d96d0ef2row7_col0\" class=\"data row7 col0\" >0.13</td> \n",
       "        <td id=\"T_a21fcde4_7cac_11e8_89e1_a434d96d0ef2row7_col1\" class=\"data row7 col1\" >-0.0035</td> \n",
       "        <td id=\"T_a21fcde4_7cac_11e8_89e1_a434d96d0ef2row7_col2\" class=\"data row7 col2\" >0.71</td> \n",
       "        <td id=\"T_a21fcde4_7cac_11e8_89e1_a434d96d0ef2row7_col3\" class=\"data row7 col3\" >0.63</td> \n",
       "        <td id=\"T_a21fcde4_7cac_11e8_89e1_a434d96d0ef2row7_col4\" class=\"data row7 col4\" >-0.013</td> \n",
       "        <td id=\"T_a21fcde4_7cac_11e8_89e1_a434d96d0ef2row7_col5\" class=\"data row7 col5\" >0.032</td> \n",
       "        <td id=\"T_a21fcde4_7cac_11e8_89e1_a434d96d0ef2row7_col6\" class=\"data row7 col6\" >0.79</td> \n",
       "        <td id=\"T_a21fcde4_7cac_11e8_89e1_a434d96d0ef2row7_col7\" class=\"data row7 col7\" >1</td> \n",
       "        <td id=\"T_a21fcde4_7cac_11e8_89e1_a434d96d0ef2row7_col8\" class=\"data row7 col8\" >-0.0056</td> \n",
       "    </tr>    <tr> \n",
       "        <th id=\"T_a21fcde4_7cac_11e8_89e1_a434d96d0ef2level0_row8\" class=\"row_heading level0 row8\" >Survived</th> \n",
       "        <td id=\"T_a21fcde4_7cac_11e8_89e1_a434d96d0ef2row8_col0\" class=\"data row8 col0\" >0.57</td> \n",
       "        <td id=\"T_a21fcde4_7cac_11e8_89e1_a434d96d0ef2row8_col1\" class=\"data row8 col1\" >0.64</td> \n",
       "        <td id=\"T_a21fcde4_7cac_11e8_89e1_a434d96d0ef2row8_col2\" class=\"data row8 col2\" >0.7</td> \n",
       "        <td id=\"T_a21fcde4_7cac_11e8_89e1_a434d96d0ef2row8_col3\" class=\"data row8 col3\" >0.61</td> \n",
       "        <td id=\"T_a21fcde4_7cac_11e8_89e1_a434d96d0ef2row8_col4\" class=\"data row8 col4\" >0.68</td> \n",
       "        <td id=\"T_a21fcde4_7cac_11e8_89e1_a434d96d0ef2row8_col5\" class=\"data row8 col5\" >0.79</td> \n",
       "        <td id=\"T_a21fcde4_7cac_11e8_89e1_a434d96d0ef2row8_col6\" class=\"data row8 col6\" >0.63</td> \n",
       "        <td id=\"T_a21fcde4_7cac_11e8_89e1_a434d96d0ef2row8_col7\" class=\"data row8 col7\" >0.67</td> \n",
       "        <td id=\"T_a21fcde4_7cac_11e8_89e1_a434d96d0ef2row8_col8\" class=\"data row8 col8\" >1</td> \n",
       "    </tr></tbody> \n",
       "</table> "
      ],
      "text/plain": [
       "<pandas.io.formats.style.Styler at 0x7fa1870338d0>"
      ]
     },
     "execution_count": 5,
     "metadata": {},
     "output_type": "execute_result"
    }
   ],
   "source": [
    "df_results.pivot(index='target', columns='feature', values='score').fillna(1) \\\n",
    ".style.background_gradient(cmap=\"viridis\", low=0.3, high=0.0, axis=1) \\\n",
    ".set_precision(2)"
   ]
  },
  {
   "cell_type": "markdown",
   "metadata": {},
   "source": [
    "## Check 2D relationships using a scatter plot"
   ]
  },
  {
   "cell_type": "code",
   "execution_count": 6,
   "metadata": {},
   "outputs": [
    {
     "data": {
      "image/png": "[encoded data removed]",
      "text/plain": [
       "<Figure size 432x288 with 1 Axes>"
      ]
     },
     "metadata": {},
     "output_type": "display_data"
    }
   ],
   "source": [
    "df.plot(kind=\"scatter\", x=\"Fare\", y=\"SibSpParch\", alpha=0.1);"
   ]
  },
  {
   "cell_type": "markdown",
   "metadata": {},
   "source": [
    "### Add a regression plot to show the direction of the relationship"
   ]
  },
  {
   "cell_type": "code",
   "execution_count": 7,
   "metadata": {},
   "outputs": [
    {
     "data": {
      "image/png": "[encoded data removed]",
      "text/plain": [
       "<Figure size 432x288 with 1 Axes>"
      ]
     },
     "metadata": {},
     "output_type": "display_data"
    }
   ],
   "source": [
    "sns.regplot(data=df, x=\"Fare\", y=\"SibSpParch\");"
   ]
  },
  {
   "cell_type": "markdown",
   "metadata": {},
   "source": [
    "## Scatter for Pclass (a categorical) is more sensibly represented using a box plot"
   ]
  },
  {
   "cell_type": "code",
   "execution_count": 8,
   "metadata": {},
   "outputs": [
    {
     "data": {
      "image/png": "[encoded data removed]",
      "text/plain": [
       "<Figure size 432x288 with 1 Axes>"
      ]
     },
     "metadata": {},
     "output_type": "display_data"
    }
   ],
   "source": [
    "df.plot(kind=\"scatter\", x=\"Fare\", y=\"Pclass\", alpha=0.1);"
   ]
  },
  {
   "cell_type": "code",
   "execution_count": 9,
   "metadata": {},
   "outputs": [
    {
     "data": {
      "image/png": "[encoded data removed]",
      "text/plain": [
       "<Figure size 432x288 with 1 Axes>"
      ]
     },
     "metadata": {},
     "output_type": "display_data"
    }
   ],
   "source": [
    "sns.boxplot(data=df, x=\"Fare\", y=\"Pclass\", orient=\"h\", order=[3, 2, 1]);\n",
    "sns.stripplot(data=df, x=\"Fare\", y=\"Pclass\", orient=\"h\", order=[3, 2, 1], jitter=True, alpha=0.5);"
   ]
  },
  {
   "cell_type": "markdown",
   "metadata": {},
   "source": [
    "## Plot Fare vs Embarked"
   ]
  },
  {
   "cell_type": "code",
   "execution_count": 10,
   "metadata": {},
   "outputs": [
    {
     "data": {
      "image/png": "[encoded data removed]",
      "text/plain": [
       "<Figure size 432x288 with 1 Axes>"
      ]
     },
     "metadata": {},
     "output_type": "display_data"
    }
   ],
   "source": [
    "sns.boxplot(data=df, x=\"Fare\", y=\"Embarked\", orient=\"h\");\n",
    "sns.stripplot(data=df, x=\"Fare\", y=\"Embarked\", orient=\"h\", jitter=True, alpha=0.5);"
   ]
  },
  {
   "cell_type": "code",
   "execution_count": null,
   "metadata": {},
   "outputs": [],
   "source": []
  }
 ],
 "metadata": {
  "kernelspec": {
   "display_name": "Python 3",
   "language": "python",
   "name": "python3"
  },
  "language_info": {
   "codemirror_mode": {
    "name": "ipython",
    "version": 3
   },
   "file_extension": ".py",
   "mimetype": "text/x-python",
   "name": "python",
   "nbconvert_exporter": "python",
   "pygments_lexer": "ipython3",
   "version": "3.6.5"
  }
 },
 "nbformat": 4,
 "nbformat_minor": 2
}
